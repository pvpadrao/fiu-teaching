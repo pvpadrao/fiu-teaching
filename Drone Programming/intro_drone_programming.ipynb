{
  "nbformat": 4,
  "nbformat_minor": 0,
  "metadata": {
    "colab": {
      "name": "intro-drone-programming.ipynb",
      "provenance": [],
      "collapsed_sections": []
    },
    "kernelspec": {
      "name": "python3",
      "display_name": "Python 3"
    },
    "language_info": {
      "name": "python"
    }
  },
  "cells": [
    {
      "cell_type": "markdown",
      "source": [
        "# Intro to Drone Programming"
      ],
      "metadata": {
        "id": "vUJ5I9BnqGbi"
      }
    },
    {
      "cell_type": "markdown",
      "source": [
        "This tutorial is part of the [CDA 4625 - Introduction to Mobile Robotics](http://users.cis.fiu.edu/~jabobadi/CDA4625/) and based on the following [material](https://www.youtube.com/watch?v=LmEcyQnfpDA&t=2994s)."
      ],
      "metadata": {
        "id": "HdNpuP2mqdsM"
      }
    },
    {
      "cell_type": "markdown",
      "source": [
        "## Basic Movements"
      ],
      "metadata": {
        "id": "dOZML8L2oZDQ"
      }
    },
    {
      "cell_type": "code",
      "source": [
        "from djitellopy import tello\n",
        "from time import sleep\n",
        "\n",
        "# create the drone object\n",
        "drone = tello.Tello()\n",
        "# connecting the drone through WiFi\n",
        "drone.connect()\n",
        "print(drone.get_battery())\n",
        "\n",
        "# taking off\n",
        "drone.takeoff()\n",
        "\n",
        "\"\"\"\n",
        "Send RC control via four channels\n",
        "send_rc_control(left_right_velocity, forward_backward_velocity, up_down_velocity, yaw_velocity)\n",
        "data type: int\n",
        "range: -100 ~ 100 \n",
        "\"\"\"\n",
        "drone.send_rc_control(0, 30, 0, 0)\n",
        "\n",
        "# wait for 3 seconds\n",
        "sleep(3)\n",
        "# For safety reasons\n",
        "drone.send_rc_control(0, 0, 0, 0)\n",
        "# landing\n",
        "drone.land()"
      ],
      "metadata": {
        "id": "_g47HkhToemk"
      },
      "execution_count": null,
      "outputs": []
    },
    {
      "cell_type": "markdown",
      "source": [
        "## ImageCapturingTrelloDrone.py"
      ],
      "metadata": {
        "id": "EqF-szW6zUkV"
      }
    },
    {
      "cell_type": "code",
      "execution_count": 1,
      "metadata": {
        "id": "dhXogohND5oo",
        "colab": {
          "base_uri": "https://localhost:8080/",
          "height": 375
        },
        "outputId": "0e4567ef-2b61-427e-fff5-6725ffabff94"
      },
      "outputs": [
        {
          "output_type": "error",
          "ename": "ModuleNotFoundError",
          "evalue": "ignored",
          "traceback": [
            "\u001b[0;31m---------------------------------------------------------------------------\u001b[0m",
            "\u001b[0;31mModuleNotFoundError\u001b[0m                       Traceback (most recent call last)",
            "\u001b[0;32m<ipython-input-1-87fe5e0814ed>\u001b[0m in \u001b[0;36m<module>\u001b[0;34m()\u001b[0m\n\u001b[0;32m----> 1\u001b[0;31m \u001b[0;32mfrom\u001b[0m \u001b[0mdjitellopy\u001b[0m \u001b[0;32mimport\u001b[0m \u001b[0mtello\u001b[0m\u001b[0;34m\u001b[0m\u001b[0;34m\u001b[0m\u001b[0m\n\u001b[0m\u001b[1;32m      2\u001b[0m \u001b[0;32mimport\u001b[0m \u001b[0mcv2\u001b[0m\u001b[0;34m\u001b[0m\u001b[0;34m\u001b[0m\u001b[0m\n\u001b[1;32m      3\u001b[0m \u001b[0;34m\u001b[0m\u001b[0m\n\u001b[1;32m      4\u001b[0m \u001b[0mdrone\u001b[0m \u001b[0;34m=\u001b[0m \u001b[0mtello\u001b[0m\u001b[0;34m.\u001b[0m\u001b[0mTello\u001b[0m\u001b[0;34m(\u001b[0m\u001b[0;34m)\u001b[0m\u001b[0;34m\u001b[0m\u001b[0;34m\u001b[0m\u001b[0m\n\u001b[1;32m      5\u001b[0m \u001b[0mdrone\u001b[0m\u001b[0;34m.\u001b[0m\u001b[0mconnect\u001b[0m\u001b[0;34m(\u001b[0m\u001b[0;34m)\u001b[0m\u001b[0;34m\u001b[0m\u001b[0;34m\u001b[0m\u001b[0m\n",
            "\u001b[0;31mModuleNotFoundError\u001b[0m: No module named 'djitellopy'",
            "",
            "\u001b[0;31m---------------------------------------------------------------------------\u001b[0;32m\nNOTE: If your import is failing due to a missing package, you can\nmanually install dependencies using either !pip or !apt.\n\nTo view examples of installing some common dependencies, click the\n\"Open Examples\" button below.\n\u001b[0;31m---------------------------------------------------------------------------\u001b[0m\n"
          ],
          "errorDetails": {
            "actions": [
              {
                "action": "open_url",
                "actionText": "Open Examples",
                "url": "/notebooks/snippets/importing_libraries.ipynb"
              }
            ]
          }
        }
      ],
      "source": [
        "from djitellopy import tello\n",
        "import cv2\n",
        "\n",
        "drone = tello.Tello()\n",
        "drone.connect()\n",
        "print(drone.get_battery())\n",
        "\n",
        "# Turn on video streaming\n",
        "drone.streamon()\n",
        "\n",
        "while True:\n",
        "    # get the actual frame received by the drone\n",
        "    img = drone.get_frame_read().frame\n",
        "    # keep the size of the frame small so it could process it faster\n",
        "    img = cv2.resize(img, (360, 240))  # if not resized, the size of the frame is 1280 x 780\n",
        "    # create a window to display the results\n",
        "    cv2.imshow(\"Name of Window\", img)\n",
        "    # write a wait key to keep the window visible\n",
        "    cv2.waitKey(1)"
      ]
    },
    {
      "cell_type": "markdown",
      "source": [
        "## keyPressModule.py\n",
        "\n",
        "a module is some script that can be executed by itself or by other scripts"
      ],
      "metadata": {
        "id": "zzYOABUwzSd0"
      }
    },
    {
      "cell_type": "code",
      "source": [
        "import pygame\n",
        "\n",
        "\n",
        "def init():\n",
        "    pygame.init()\n",
        "    window = pygame.display.set_mode((400, 400))\n",
        "\n",
        "\n",
        "# function to get the key pressed\n",
        "def getKey(keyName):\n",
        "    answer = False\n",
        "    for eve in pygame.event.get():\n",
        "        pass\n",
        "    keyInput = pygame.key.get_pressed()\n",
        "    myKey = getattr(pygame, 'K_{}'.format(keyName))\n",
        "    if keyInput[myKey]:\n",
        "        answer = True\n",
        "    pygame.display.update()\n",
        "\n",
        "    return answer\n",
        "\n",
        "\n",
        "def main():\n",
        "    if getKey(\"LEFT\"):\n",
        "        print(\"Left key pressed!\")\n",
        "    if getKey(\"RIGHT\"):\n",
        "        print(\"Right key pressed!\")\n",
        "\n",
        "\n",
        "# if running this file as the main file, do the following:\n",
        "if __name__ == '__main__':\n",
        "    init()\n",
        "    while True:\n",
        "        main()\n"
      ],
      "metadata": {
        "id": "lRPcI33DzaWH"
      },
      "execution_count": null,
      "outputs": []
    },
    {
      "cell_type": "markdown",
      "source": [
        "## keyBoardControl.py"
      ],
      "metadata": {
        "id": "bfuQWxdr5Hb9"
      }
    },
    {
      "cell_type": "code",
      "source": [
        "from djitellopy import tello\n",
        "import keyPressModule as kp\n",
        "from time import sleep\n",
        "\n",
        "kp.init()\n",
        "drone = tello.Tello()\n",
        "drone.connect()\n",
        "print(drone.get_battery())\n",
        "\n",
        "\n",
        "def getKeyboardInput():\n",
        "    # left/right, forward/backward, up/down, yaw velocity\n",
        "    lr, fb, ud, yv = 0, 0, 0, 0\n",
        "    speed = 20\n",
        "    if kp.getKey(\"LEFT\"):\n",
        "        lr = -speed\n",
        "    elif kp.getKey(\"RIGHT\"):\n",
        "        lr = speed\n",
        "    if kp.getKey(\"UP\"):\n",
        "        fb = speed\n",
        "    elif kp.getKey(\"DOWN\"):\n",
        "        fb = -speed\n",
        "    if kp.getKey(\"w\"):\n",
        "        ud = speed\n",
        "    elif kp.getKey(\"s\"):\n",
        "        ud = -speed\n",
        "    if kp.getKey(\"a\"):\n",
        "        yv = -speed\n",
        "    elif kp.getKey(\"d\"):\n",
        "        yv = speed\n",
        "    if kp.getKey(\"q\"):\n",
        "        drone.land()\n",
        "        sleep(3)\n",
        "\n",
        "    if kp.getKey(\"e\"):\n",
        "        drone.takeoff()\n",
        "\n",
        "    return [lr, fb, ud, yv]\n",
        "\n",
        "\n",
        "while True:\n",
        "    commandValues = getKeyboardInput()\n",
        "    #print(commandValues)\n",
        "    drone.send_rc_control(commandValues[0], commandValues[1], commandValues[2], commandValues[3])\n",
        "    sleep(0.05)"
      ],
      "metadata": {
        "id": "GJNgm9Hc5UKM"
      },
      "execution_count": null,
      "outputs": []
    },
    {
      "cell_type": "markdown",
      "source": [
        "## Assingment Solution"
      ],
      "metadata": {
        "id": "BhBdezYr17OB"
      }
    },
    {
      "cell_type": "code",
      "source": [
        "from djitellopy import tello\n",
        "from time import sleep\n",
        "import time\n",
        "import cv2\n",
        "\n",
        "# create the drone object\n",
        "drone = tello.Tello()\n",
        "# connecting the drone through WiFi\n",
        "drone.connect()\n",
        "print(drone.get_battery())\n",
        "drone.streamon()\n",
        "\n",
        "\n",
        "# taking off\n",
        "drone.takeoff()\n",
        "\n",
        "\"\"\"\n",
        "Send RC control via four channels\n",
        "send_rc_control(left_right_velocity, forward_backward_velocity, up_down_velocity, yaw_velocity)\n",
        "data type: int\n",
        "range: -100 ~ 100 \n",
        "\"\"\"\n",
        "speed = 40\n",
        "drone.send_rc_control(0, speed, 0, 0)\n",
        "# wait for 5 seconds\n",
        "sleep_time = 3\n",
        "sleep(sleep_time)\n",
        "drone.rotate_clockwise(90)\n",
        "# wait for 5 seconds\n",
        "sleep(sleep_time)\n",
        "img = drone.get_frame_read().frame\n",
        "img = cv2.resize(img, (360, 240))\n",
        "cv2.imwrite(f'Images/{time.time()}.jpg', img)\n",
        "sleep(0.3)\n",
        "\n",
        "drone.send_rc_control(0, speed, 0, 0)\n",
        "# wait for 5 seconds\n",
        "sleep(sleep_time)\n",
        "drone.rotate_clockwise(90)\n",
        "# wait for 5 seconds\n",
        "sleep(sleep_time)\n",
        "img = drone.get_frame_read().frame\n",
        "img = cv2.resize(img, (360, 240))\n",
        "cv2.imwrite(f'Images/{time.time()}.jpg', img)\n",
        "sleep(0.3)\n",
        "\n",
        "\n",
        "drone.send_rc_control(0, speed, 0, 0)\n",
        "# wait for 5 seconds\n",
        "sleep(sleep_time)\n",
        "drone.rotate_clockwise(90)\n",
        "# wait for 5 seconds\n",
        "sleep(sleep_time)\n",
        "img = drone.get_frame_read().frame\n",
        "img = cv2.resize(img, (360, 240))\n",
        "cv2.imwrite(f'Images/{time.time()}.jpg', img)\n",
        "sleep(0.3)\n",
        "\n",
        "drone.send_rc_control(0, speed, 0, 0)\n",
        "# wait for 5 seconds\n",
        "sleep(sleep_time )\n",
        "drone.rotate_clockwise(90)\n",
        "# wait for 5 seconds\n",
        "sleep(sleep_time)\n",
        "img = drone.get_frame_read().frame\n",
        "img = cv2.resize(img, (360, 240))\n",
        "cv2.imwrite(f'Images/{time.time()}.jpg', img)\n",
        "sleep(0.3)\n",
        "\n",
        "\n",
        "# For safety reasons\n",
        "drone.send_rc_control(0, 0, 0, 0)\n",
        "# landing\n",
        "drone.land()"
      ],
      "metadata": {
        "id": "0cTAeYKG19c7"
      },
      "execution_count": null,
      "outputs": []
    }
  ]
}